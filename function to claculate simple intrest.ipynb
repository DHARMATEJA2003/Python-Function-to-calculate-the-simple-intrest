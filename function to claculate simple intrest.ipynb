{
 "cells": [
  {
   "cell_type": "markdown",
   "id": "203dad5c",
   "metadata": {},
   "source": [
    "# Function to Calculate Simple Intrest"
   ]
  },
  {
   "cell_type": "code",
   "execution_count": 4,
   "id": "715ae546",
   "metadata": {},
   "outputs": [],
   "source": [
    "def intrest():    #Defining function\n",
    "    import datetime as dt       #importing datetime module \n",
    "    for i in range(3):         #We want 3 data 1)year, 2)Month, 3>Date So runnig the loop for 3 times\n",
    "        if i==0:\n",
    "            year=int(input(\"Enter starting year: \"))           #Taking year as input in 1st iteration\n",
    "        if i==1:\n",
    "            month=int(input(\"Enter starting Month: \"))         #Taking month as a input in 2nd iteration\n",
    "        if i==2:\n",
    "            date=int(input(\"Enter starting date: \"))           #Taking date as a input in 3rd itertion\n",
    "    start = dt.datetime(year,month,date)\n",
    "    for i in range(3):\n",
    "        if i==0:\n",
    "            e_year=int(input(\"End of the year: \"))\n",
    "        if i==1:\n",
    "            e_month=int(input(\"Enter end of month: \"))\n",
    "        if i==2:\n",
    "            e_date=int(input(\"End date: \"))\n",
    "    end=dt.datetime(e_year,e_month,e_date)\n",
    "    days=end-start\n",
    "    days2=int((str(days)[:3]))\n",
    "    months=days2/30.41666\n",
    "    R_O_I=float(input(\"Enter rate of Intrest: \"))\n",
    "    principal=int(input(\"Enter principal amount: \"))\n",
    "    intr=(principal*months*R_O_I)/100\n",
    "    return f\"The intrest for a principal amount of {principal} for a period of {months} months is {intr}\""
   ]
  },
  {
   "cell_type": "code",
   "execution_count": 5,
   "id": "563214be",
   "metadata": {},
   "outputs": [
    {
     "name": "stdout",
     "output_type": "stream",
     "text": [
      "Enter starting year: 2022\n",
      "Enter starting Month: 5\n",
      "Enter starting date: 5\n",
      "End of the year: 2023\n",
      "Enter end of month: 11\n",
      "End date: 27\n",
      "Enter rate of Intrest: 3\n",
      "Enter principal amount: 20000\n",
      "The intrest for a principal amount of 20000 for a period of 18.772606854269995 months is 11263.564112561997\n"
     ]
    }
   ],
   "source": [
    "print(intrest())"
   ]
  },
  {
   "cell_type": "code",
   "execution_count": 6,
   "id": "60f7e97a",
   "metadata": {},
   "outputs": [
    {
     "name": "stdout",
     "output_type": "stream",
     "text": [
      "Enter starting year: 2022\n",
      "Enter starting Month: 6\n",
      "Enter starting date: 12\n",
      "End of the year: 2023\n",
      "Enter end of month: 11\n",
      "End date: 27\n",
      "Enter rate of Intrest: 3\n",
      "Enter principal amount: 20000\n",
      "The intrest for a principal amount of 20000 for a period of 17.523291511954305 months is 10513.974907172584\n"
     ]
    }
   ],
   "source": [
    "print(intrest())"
   ]
  },
  {
   "cell_type": "code",
   "execution_count": 7,
   "id": "c179b02e",
   "metadata": {},
   "outputs": [
    {
     "name": "stdout",
     "output_type": "stream",
     "text": [
      "Enter starting year: 2021\n",
      "Enter starting Month: 7\n",
      "Enter starting date: 22\n",
      "End of the year: 2023\n",
      "Enter end of month: 11\n",
      "End date: 27\n",
      "Enter rate of Intrest: 4\n",
      "Enter principal amount: 30000\n",
      "The intrest for a principal amount of 30000 for a period of 28.20822536070693 months is 33849.870432848315\n"
     ]
    }
   ],
   "source": [
    "print(intrest())"
   ]
  },
  {
   "cell_type": "code",
   "execution_count": 8,
   "id": "5eccf827",
   "metadata": {},
   "outputs": [
    {
     "name": "stdout",
     "output_type": "stream",
     "text": [
      "Enter starting year: 2020\n",
      "Enter starting Month: 2\n",
      "Enter starting date: 23\n",
      "End of the year: 2023\n",
      "Enter end of month: 11\n",
      "End date: 27\n",
      "Enter rate of Intrest: 3.5\n",
      "Enter principal amount: 16000\n",
      "The intrest for a principal amount of 16000 for a period of 4.504110576243414 months is 2522.3019226963115\n"
     ]
    }
   ],
   "source": [
    "print(intrest())"
   ]
  },
  {
   "cell_type": "code",
   "execution_count": null,
   "id": "e115abb5",
   "metadata": {},
   "outputs": [],
   "source": []
  }
 ],
 "metadata": {
  "kernelspec": {
   "display_name": "Python 3 (ipykernel)",
   "language": "python",
   "name": "python3"
  },
  "language_info": {
   "codemirror_mode": {
    "name": "ipython",
    "version": 3
   },
   "file_extension": ".py",
   "mimetype": "text/x-python",
   "name": "python",
   "nbconvert_exporter": "python",
   "pygments_lexer": "ipython3",
   "version": "3.9.13"
  }
 },
 "nbformat": 4,
 "nbformat_minor": 5
}
